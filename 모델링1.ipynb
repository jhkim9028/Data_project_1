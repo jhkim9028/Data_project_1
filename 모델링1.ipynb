{
 "cells": [
  {
   "cell_type": "code",
   "execution_count": 1,
   "metadata": {},
   "outputs": [
    {
     "name": "stdout",
     "output_type": "stream",
     "text": [
      "(10279, 4)\n"
     ]
    },
    {
     "data": {
      "text/html": [
       "<div>\n",
       "<style scoped>\n",
       "    .dataframe tbody tr th:only-of-type {\n",
       "        vertical-align: middle;\n",
       "    }\n",
       "\n",
       "    .dataframe tbody tr th {\n",
       "        vertical-align: top;\n",
       "    }\n",
       "\n",
       "    .dataframe thead th {\n",
       "        text-align: right;\n",
       "    }\n",
       "</style>\n",
       "<table border=\"1\" class=\"dataframe\">\n",
       "  <thead>\n",
       "    <tr style=\"text-align: right;\">\n",
       "      <th></th>\n",
       "      <th>리뷰</th>\n",
       "      <th>평점</th>\n",
       "      <th>긍정부정</th>\n",
       "      <th>리뷰길이</th>\n",
       "    </tr>\n",
       "  </thead>\n",
       "  <tbody>\n",
       "    <tr>\n",
       "      <th>0</th>\n",
       "      <td>진짜 머리 감고 나면 너무 너무 간지러워 요상쾌함이 오래가지도 못하고 냄새도 빨리 나요</td>\n",
       "      <td>1</td>\n",
       "      <td>0</td>\n",
       "      <td>52</td>\n",
       "    </tr>\n",
       "    <tr>\n",
       "      <th>1</th>\n",
       "      <td>비듬 생겼어요 어쩐지간지럽더라 개나 샀는데 누구 주지도 못하고 아오</td>\n",
       "      <td>1</td>\n",
       "      <td>0</td>\n",
       "      <td>50</td>\n",
       "    </tr>\n",
       "    <tr>\n",
       "      <th>2</th>\n",
       "      <td>뚜껑 펌프 고장 났네요 아무리 눌러도 안 나와서 뚜껑 열고 사용하다 방치했어요</td>\n",
       "      <td>1</td>\n",
       "      <td>0</td>\n",
       "      <td>40</td>\n",
       "    </tr>\n",
       "    <tr>\n",
       "      <th>3</th>\n",
       "      <td>머리카락에 부담이 안 되고 머리 피부에 부담이 안 되니 좋죠</td>\n",
       "      <td>1</td>\n",
       "      <td>0</td>\n",
       "      <td>27</td>\n",
       "    </tr>\n",
       "    <tr>\n",
       "      <th>4</th>\n",
       "      <td>샴푸는 사용해보고 살수가 없으니 오랜 기간 동안 고민했고 리뷰들도 꼼꼼히 보았는데 ...</td>\n",
       "      <td>1</td>\n",
       "      <td>0</td>\n",
       "      <td>510</td>\n",
       "    </tr>\n",
       "  </tbody>\n",
       "</table>\n",
       "</div>"
      ],
      "text/plain": [
       "                                                  리뷰  평점  긍정부정  리뷰길이\n",
       "0   진짜 머리 감고 나면 너무 너무 간지러워 요상쾌함이 오래가지도 못하고 냄새도 빨리 나요   1     0    52\n",
       "1              비듬 생겼어요 어쩐지간지럽더라 개나 샀는데 누구 주지도 못하고 아오   1     0    50\n",
       "2        뚜껑 펌프 고장 났네요 아무리 눌러도 안 나와서 뚜껑 열고 사용하다 방치했어요   1     0    40\n",
       "3                  머리카락에 부담이 안 되고 머리 피부에 부담이 안 되니 좋죠   1     0    27\n",
       "4  샴푸는 사용해보고 살수가 없으니 오랜 기간 동안 고민했고 리뷰들도 꼼꼼히 보았는데 ...   1     0   510"
      ]
     },
     "execution_count": 1,
     "metadata": {},
     "output_type": "execute_result"
    }
   ],
   "source": [
    "import matplotlib.pyplot as plt\n",
    "import seaborn as sns\n",
    "import pandas as pd\n",
    "\n",
    "df = pd.read_csv('./shampoo_final.csv')\n",
    "df['긍정부정'] = df['긍정부정'].replace({'y': 1, 'n': 0})\n",
    "\n",
    "print(df.shape)\n",
    "df.head()"
   ]
  },
  {
   "cell_type": "code",
   "execution_count": 2,
   "metadata": {},
   "outputs": [],
   "source": [
    "# 모델\n",
    "from sklearn.ensemble import AdaBoostClassifier, GradientBoostingClassifier, RandomForestClassifier\n",
    "from sklearn.linear_model import LogisticRegression\n",
    "from sklearn.tree import DecisionTreeClassifier\n",
    "from sklearn.naive_bayes import GaussianNB\n",
    "from sklearn.svm import SVC\n",
    "\n",
    "from sklearn.model_selection import train_test_split\n",
    "\n",
    "X_train, X_test, y_train, y_test = train_test_split(\n",
    "  df['리뷰'], df['긍정부정'],\n",
    "  stratify=df['긍정부정'],\n",
    "  test_size=.25)"
   ]
  },
  {
   "cell_type": "code",
   "execution_count": 3,
   "metadata": {},
   "outputs": [
    {
     "name": "stdout",
     "output_type": "stream",
     "text": [
      "Train Size:  7709\n",
      "Test Size:  2570\n"
     ]
    }
   ],
   "source": [
    "print(\"Train Size: \", len(X_train))\n",
    "print(\"Test Size: \", len(X_test))"
   ]
  },
  {
   "attachments": {},
   "cell_type": "markdown",
   "metadata": {},
   "source": [
    "#### 1. 명사/동사/형용사"
   ]
  },
  {
   "cell_type": "code",
   "execution_count": 4,
   "metadata": {},
   "outputs": [
    {
     "name": "stderr",
     "output_type": "stream",
     "text": [
      "/Users/jason/anaconda3/lib/python3.10/site-packages/sklearn/feature_extraction/text.py:525: UserWarning: The parameter 'token_pattern' will not be used since 'tokenizer' is not None'\n",
      "  warnings.warn(\n"
     ]
    }
   ],
   "source": [
    "# 토크나이저 정의\n",
    "from sklearn.feature_extraction.text import TfidfVectorizer\n",
    "from konlpy.tag import Okt\n",
    "\n",
    "t = Okt()\n",
    "\n",
    "def tokenizer1(txt):\n",
    "  result = []\n",
    "  for word, tag in t.pos(txt, norm=True, stem=True):\n",
    "    if tag in ['Noun', 'Verb', 'Adjective']:\n",
    "      result.append(word)\n",
    "  return result\n",
    "\n",
    "tfidf1 = TfidfVectorizer(\n",
    "  tokenizer=tokenizer1, max_features=1000,\n",
    "  min_df=5, max_df=.5)\n",
    "\n",
    "X_train_tfidf1 = tfidf1.fit_transform(X_train)\n",
    "X_test_tfidf1 = tfidf1.transform(X_test)"
   ]
  },
  {
   "cell_type": "code",
   "execution_count": 5,
   "metadata": {},
   "outputs": [],
   "source": [
    "# import numpy as np\n",
    "# from sklearn.model_selection import GridSearchCV\n",
    "\n",
    "# params = {\n",
    "#   'penalty': ['l1', 'l2', 'elasticnet'],\n",
    "#   'C': np.logspace(-4, 4, 20),\n",
    "#   'solver': ['lbfgs', 'newton-cg', 'liblinear', 'sag', 'saga'],\n",
    "#   'max_iter': [100, 1000, 2500, 5000]\n",
    "# }\n",
    "\n",
    "# lr_clf = LogisticRegression(random_state=13)\n",
    "\n",
    "# gs_cv = GridSearchCV(lr_clf, param_grid=params, n_jobs=-1)"
   ]
  },
  {
   "cell_type": "code",
   "execution_count": 6,
   "metadata": {},
   "outputs": [],
   "source": [
    "# gs_cv.fit(X_train_tfidf1, y_train)"
   ]
  },
  {
   "cell_type": "code",
   "execution_count": 7,
   "metadata": {},
   "outputs": [],
   "source": [
    "# gs_cv.best_estimator_"
   ]
  },
  {
   "cell_type": "code",
   "execution_count": 8,
   "metadata": {},
   "outputs": [],
   "source": [
    "# gs_cv.best_params_"
   ]
  },
  {
   "cell_type": "code",
   "execution_count": 9,
   "metadata": {},
   "outputs": [],
   "source": [
    "# gs_cv.score(X_test_tfidf1, y_test)"
   ]
  },
  {
   "cell_type": "code",
   "execution_count": 10,
   "metadata": {},
   "outputs": [],
   "source": [
    "models = []\n",
    "\n",
    "models.append(('RandomForestClassifier', RandomForestClassifier(\n",
    "  n_jobs=-1, random_state=7)))\n",
    "\n",
    "models.append(('GradientBoostingClassifier', GradientBoostingClassifier(\n",
    "  n_estimators=100, random_state=7)))\n",
    "\n",
    "models.append(('AdaBoostClassifier', AdaBoostClassifier(\n",
    "  n_estimators=100, random_state=7)))\n",
    "\n",
    "models.append(('DecisionTreeClassifier', DecisionTreeClassifier(\n",
    "  max_depth=4, random_state=7)))\n",
    "\n",
    "models.append(('LogisticRegression', LogisticRegression(\n",
    "  random_state=7)))\n",
    "\n",
    "models.append(('SupportVectorClassifier', SVC(\n",
    "  random_state=7)))\n",
    "\n",
    "# models.append(('NaiveBayes', GaussianNB()))"
   ]
  },
  {
   "cell_type": "code",
   "execution_count": 11,
   "metadata": {},
   "outputs": [
    {
     "name": "stdout",
     "output_type": "stream",
     "text": [
      "[0.84306096 0.81841764 0.84111543 0.85084306 0.85074627]\n",
      "RandomForestClassifier 0.8408366726677894\n",
      "======================================================================================================================================================\n",
      "[0.81387808 0.7846952  0.80415045 0.80869001 0.83257625]\n",
      "GradientBoostingClassifier 0.8087979995135136\n",
      "======================================================================================================================================================\n",
      "[0.80998703 0.80155642 0.8080415  0.807393   0.82673589]\n",
      "AdaBoostClassifier 0.8107427673003617\n",
      "======================================================================================================================================================\n",
      "[0.67963684 0.67574578 0.60894942 0.68028534 0.6807268 ]\n",
      "DecisionTreeClassifier 0.6650688361609312\n",
      "======================================================================================================================================================\n",
      "[0.84241245 0.81906615 0.8385214  0.84046693 0.85074627]\n",
      "LogisticRegression 0.838242638945351\n",
      "======================================================================================================================================================\n",
      "[0.8618677  0.83916991 0.85278859 0.85538262 0.86826736]\n",
      "SupportVectorClassifier 0.8554952357145081\n",
      "======================================================================================================================================================\n"
     ]
    }
   ],
   "source": [
    "from sklearn.model_selection import StratifiedKFold, cross_val_score\n",
    "\n",
    "results = []; names = []\n",
    "for name, model in models:\n",
    "  splitter = StratifiedKFold(n_splits=5, shuffle=True, random_state=7)\n",
    "  cv_results = cross_val_score(model, X_train_tfidf1, y_train, cv=splitter, scoring='accuracy')\n",
    "  results.append(cv_results)\n",
    "  names.append(name)\n",
    "  \n",
    "  print(cv_results)\n",
    "  print(name, cv_results.mean())\n",
    "  print('=' * 150)"
   ]
  },
  {
   "cell_type": "code",
   "execution_count": 12,
   "metadata": {},
   "outputs": [
    {
     "data": {
      "text/plain": [
       "[array([0.84306096, 0.81841764, 0.84111543, 0.85084306, 0.85074627]),\n",
       " array([0.81387808, 0.7846952 , 0.80415045, 0.80869001, 0.83257625]),\n",
       " array([0.80998703, 0.80155642, 0.8080415 , 0.807393  , 0.82673589]),\n",
       " array([0.67963684, 0.67574578, 0.60894942, 0.68028534, 0.6807268 ]),\n",
       " array([0.84241245, 0.81906615, 0.8385214 , 0.84046693, 0.85074627]),\n",
       " array([0.8618677 , 0.83916991, 0.85278859, 0.85538262, 0.86826736])]"
      ]
     },
     "execution_count": 12,
     "metadata": {},
     "output_type": "execute_result"
    }
   ],
   "source": [
    "results"
   ]
  },
  {
   "cell_type": "code",
   "execution_count": 13,
   "metadata": {},
   "outputs": [
    {
     "data": {
      "image/png": "[encoded data removed]",
      "text/plain": [
       "<Figure size 1400x800 with 1 Axes>"
      ]
     },
     "metadata": {},
     "output_type": "display_data"
    }
   ],
   "source": [
    "fig = plt.figure(figsize=(14, 8))\n",
    "\n",
    "fig.suptitle('Model Comparison')\n",
    "ax = fig.add_subplot(111)\n",
    "ax.boxplot(results)\n",
    "ax.set_xticklabels(names);"
   ]
  },
  {
   "cell_type": "code",
   "execution_count": 14,
   "metadata": {},
   "outputs": [
    {
     "name": "stdout",
     "output_type": "stream",
     "text": [
      "RandomForestClassifier 0.8299610894941635\n",
      "RandomForestClassifier 0.8412600370599135\n",
      "RandomForestClassifier 0.8832684824902723\n",
      "RandomForestClassifier 0.8617526099335654\n",
      "======================================================================================================================================================\n",
      "GradientBoostingClassifier 0.7926070038910505\n",
      "GradientBoostingClassifier 0.7907780979827089\n",
      "GradientBoostingClassifier 0.8897535667963683\n",
      "GradientBoostingClassifier 0.8373512358864814\n",
      "======================================================================================================================================================\n",
      "AdaBoostClassifier 0.8027237354085603\n",
      "AdaBoostClassifier 0.845691382765531\n",
      "AdaBoostClassifier 0.8210116731517509\n",
      "AdaBoostClassifier 0.8331688055281342\n",
      "======================================================================================================================================================\n",
      "DecisionTreeClassifier 0.6782101167315175\n",
      "DecisionTreeClassifier 0.6646706586826348\n",
      "DecisionTreeClassifier 0.9357976653696498\n",
      "DecisionTreeClassifier 0.7772690546727713\n",
      "======================================================================================================================================================\n",
      "LogisticRegression 0.8385214007782101\n",
      "LogisticRegression 0.8519675202998126\n",
      "LogisticRegression 0.8845654993514915\n",
      "LogisticRegression 0.8679605472478523\n",
      "======================================================================================================================================================\n",
      "SupportVectorClassifier 0.8591439688715953\n",
      "SupportVectorClassifier 0.8720050441361917\n",
      "SupportVectorClassifier 0.896887159533074\n",
      "SupportVectorClassifier 0.8842710997442456\n",
      "======================================================================================================================================================\n"
     ]
    }
   ],
   "source": [
    "from sklearn.metrics import accuracy_score\n",
    "from sklearn.metrics import precision_score\n",
    "from sklearn.metrics import recall_score\n",
    "from sklearn.metrics import f1_score\n",
    "\n",
    "for name, model in models:\n",
    "  model.fit(X_train_tfidf1, y_train)\n",
    "  pred = model.predict(X_test_tfidf1)\n",
    "  \n",
    "  print(name, accuracy_score(y_test, pred))\n",
    "  print(name, precision_score(y_test, pred))\n",
    "  print(name, recall_score(y_test, pred))\n",
    "  print(name, f1_score(y_test, pred))\n",
    "  print('=' * 150)"
   ]
  },
  {
   "attachments": {},
   "cell_type": "markdown",
   "metadata": {},
   "source": [
    "#### 2. 명사/동사"
   ]
  },
  {
   "cell_type": "code",
   "execution_count": 15,
   "metadata": {},
   "outputs": [
    {
     "name": "stderr",
     "output_type": "stream",
     "text": [
      "/Users/jason/anaconda3/lib/python3.10/site-packages/sklearn/feature_extraction/text.py:525: UserWarning: The parameter 'token_pattern' will not be used since 'tokenizer' is not None'\n",
      "  warnings.warn(\n"
     ]
    }
   ],
   "source": [
    "def tokenizer2(txt):\n",
    "  result = []\n",
    "  for word, tag in t.pos(txt, norm=True, stem=True):\n",
    "    if tag in ['Noun', 'Verb']:\n",
    "      result.append(word)\n",
    "  return result\n",
    "\n",
    "tfidf2 = TfidfVectorizer(\n",
    "  tokenizer=tokenizer2, max_features=2000,\n",
    "  min_df=5, max_df=.5)\n",
    "\n",
    "X_train_tfidf2 = tfidf2.fit_transform(X_train)\n",
    "X_test_tfidf2 = tfidf2.transform(X_test)"
   ]
  },
  {
   "cell_type": "code",
   "execution_count": 16,
   "metadata": {},
   "outputs": [],
   "source": [
    "models = []\n",
    "\n",
    "models.append(('RandomForestClassifier', RandomForestClassifier(\n",
    "  n_jobs=-1, random_state=7)))\n",
    "\n",
    "models.append(('GradientBoostingClassifier', GradientBoostingClassifier(\n",
    "  n_estimators=100, random_state=7)))\n",
    "\n",
    "models.append(('AdaBoostClassifier', AdaBoostClassifier(\n",
    "  n_estimators=100, random_state=7)))\n",
    "\n",
    "models.append(('DecisionTreeClassifier', DecisionTreeClassifier(\n",
    "  max_depth=4, random_state=7)))\n",
    "\n",
    "models.append(('LogisticRegression', LogisticRegression(\n",
    "  random_state=7)))\n",
    "\n",
    "models.append(('SupportVectorClassifier', SVC(\n",
    "  random_state=7)))"
   ]
  },
  {
   "cell_type": "code",
   "execution_count": 17,
   "metadata": {},
   "outputs": [
    {
     "name": "stdout",
     "output_type": "stream",
     "text": [
      "[0.84306096 0.81841764 0.84111543 0.85084306 0.85074627]\n",
      "RandomForestClassifier 0.8408366726677894\n",
      "======================================================================================================================================================\n",
      "[0.81387808 0.7846952  0.80415045 0.80869001 0.83257625]\n",
      "GradientBoostingClassifier 0.8087979995135136\n",
      "======================================================================================================================================================\n",
      "[0.80998703 0.80155642 0.8080415  0.807393   0.82673589]\n",
      "AdaBoostClassifier 0.8107427673003617\n",
      "======================================================================================================================================================\n",
      "[0.67963684 0.67574578 0.60894942 0.68028534 0.6807268 ]\n",
      "DecisionTreeClassifier 0.6650688361609312\n",
      "======================================================================================================================================================\n",
      "[0.84241245 0.81906615 0.8385214  0.84046693 0.85074627]\n",
      "LogisticRegression 0.838242638945351\n",
      "======================================================================================================================================================\n",
      "[0.8618677  0.83916991 0.85278859 0.85538262 0.86826736]\n",
      "SupportVectorClassifier 0.8554952357145081\n",
      "======================================================================================================================================================\n"
     ]
    }
   ],
   "source": [
    "from sklearn.model_selection import StratifiedKFold, cross_val_score\n",
    "\n",
    "results = []; names = []\n",
    "for name, model in models:\n",
    "  splitter = StratifiedKFold(n_splits=5, shuffle=True, random_state=7)\n",
    "  cv_results = cross_val_score(model, X_train_tfidf1, y_train, cv=splitter, scoring='accuracy')\n",
    "  results.append(cv_results)\n",
    "  names.append(name)\n",
    "  \n",
    "  print(cv_results)\n",
    "  print(name, cv_results.mean())\n",
    "  print('=' * 150)"
   ]
  },
  {
   "cell_type": "code",
   "execution_count": 18,
   "metadata": {},
   "outputs": [
    {
     "data": {
      "text/plain": [
       "[array([0.84306096, 0.81841764, 0.84111543, 0.85084306, 0.85074627]),\n",
       " array([0.81387808, 0.7846952 , 0.80415045, 0.80869001, 0.83257625]),\n",
       " array([0.80998703, 0.80155642, 0.8080415 , 0.807393  , 0.82673589]),\n",
       " array([0.67963684, 0.67574578, 0.60894942, 0.68028534, 0.6807268 ]),\n",
       " array([0.84241245, 0.81906615, 0.8385214 , 0.84046693, 0.85074627]),\n",
       " array([0.8618677 , 0.83916991, 0.85278859, 0.85538262, 0.86826736])]"
      ]
     },
     "execution_count": 18,
     "metadata": {},
     "output_type": "execute_result"
    }
   ],
   "source": [
    "results"
   ]
  },
  {
   "cell_type": "code",
   "execution_count": 19,
   "metadata": {},
   "outputs": [
    {
     "data": {
      "image/png": "[encoded data removed]",
      "text/plain": [
       "<Figure size 1400x800 with 1 Axes>"
      ]
     },
     "metadata": {},
     "output_type": "display_data"
    }
   ],
   "source": [
    "fig = plt.figure(figsize=(14, 8))\n",
    "\n",
    "fig.suptitle('Model Comparison')\n",
    "ax = fig.add_subplot(111)\n",
    "ax.boxplot(results)\n",
    "ax.set_xticklabels(names);"
   ]
  },
  {
   "cell_type": "code",
   "execution_count": 20,
   "metadata": {},
   "outputs": [
    {
     "name": "stdout",
     "output_type": "stream",
     "text": [
      "RandomForestClassifier 0.8299610894941635\n",
      "GradientBoostingClassifier 0.7926070038910505\n",
      "AdaBoostClassifier 0.8027237354085603\n",
      "DecisionTreeClassifier 0.6782101167315175\n",
      "LogisticRegression 0.8385214007782101\n",
      "SupportVectorClassifier 0.8591439688715953\n"
     ]
    }
   ],
   "source": [
    "from sklearn.metrics import accuracy_score\n",
    "from sklearn.metrics import precision_score\n",
    "from sklearn.metrics import recall_score\n",
    "from sklearn.metrics import f1_score\n",
    "\n",
    "for name, model in models:\n",
    "  model.fit(X_train_tfidf1, y_train)\n",
    "  pred = model.predict(X_test_tfidf1)\n",
    "  \n",
    "  print(name, accuracy_score(y_test, pred))\n",
    "  # print(name, precision_score(y_test, pred))\n",
    "  # print(name, recall_score(y_test, pred))\n",
    "  # print(name, f1_score(y_test, pred))\n",
    "  # print('=' * 150)"
   ]
  },
  {
   "attachments": {},
   "cell_type": "markdown",
   "metadata": {},
   "source": [
    "#### 3. 명사/형용사"
   ]
  },
  {
   "cell_type": "code",
   "execution_count": 21,
   "metadata": {},
   "outputs": [
    {
     "name": "stderr",
     "output_type": "stream",
     "text": [
      "/Users/jason/anaconda3/lib/python3.10/site-packages/sklearn/feature_extraction/text.py:525: UserWarning: The parameter 'token_pattern' will not be used since 'tokenizer' is not None'\n",
      "  warnings.warn(\n"
     ]
    }
   ],
   "source": [
    "def tokenizer3(txt):\n",
    "  result = []\n",
    "  for word, tag in t.pos(txt, norm=True, stem=True):\n",
    "    if tag in ['Noun', 'Adjective']:\n",
    "      result.append(word)\n",
    "  return result\n",
    "\n",
    "tfidf3 = TfidfVectorizer(\n",
    "  tokenizer=tokenizer3, max_features=2000,\n",
    "  min_df=5, max_df=.5)\n",
    "\n",
    "X_train_tfidf3 = tfidf3.fit_transform(X_train)\n",
    "X_test_tfidf3 = tfidf3.transform(X_test)"
   ]
  },
  {
   "cell_type": "code",
   "execution_count": 22,
   "metadata": {},
   "outputs": [],
   "source": [
    "models = []\n",
    "\n",
    "models.append(('RandomForestClassifier', RandomForestClassifier(\n",
    "  n_jobs=-1, random_state=7)))\n",
    "\n",
    "models.append(('GradientBoostingClassifier', GradientBoostingClassifier(\n",
    "  n_estimators=100, random_state=7)))\n",
    "\n",
    "models.append(('AdaBoostClassifier', AdaBoostClassifier(\n",
    "  n_estimators=100, random_state=7)))\n",
    "\n",
    "models.append(('DecisionTreeClassifier', DecisionTreeClassifier(\n",
    "  max_depth=4, random_state=7)))\n",
    "\n",
    "models.append(('LogisticRegression', LogisticRegression(\n",
    "  random_state=7)))\n",
    "\n",
    "models.append(('SupportVectorClassifier', SVC(\n",
    "  random_state=7)))"
   ]
  },
  {
   "cell_type": "code",
   "execution_count": 23,
   "metadata": {},
   "outputs": [
    {
     "name": "stdout",
     "output_type": "stream",
     "text": [
      "[0.84306096 0.81841764 0.84111543 0.85084306 0.85074627]\n",
      "RandomForestClassifier 0.8408366726677894\n",
      "======================================================================================================================================================\n",
      "[0.81387808 0.7846952  0.80415045 0.80869001 0.83257625]\n",
      "GradientBoostingClassifier 0.8087979995135136\n",
      "======================================================================================================================================================\n",
      "[0.80998703 0.80155642 0.8080415  0.807393   0.82673589]\n",
      "AdaBoostClassifier 0.8107427673003617\n",
      "======================================================================================================================================================\n",
      "[0.67963684 0.67574578 0.60894942 0.68028534 0.6807268 ]\n",
      "DecisionTreeClassifier 0.6650688361609312\n",
      "======================================================================================================================================================\n",
      "[0.84241245 0.81906615 0.8385214  0.84046693 0.85074627]\n",
      "LogisticRegression 0.838242638945351\n",
      "======================================================================================================================================================\n",
      "[0.8618677  0.83916991 0.85278859 0.85538262 0.86826736]\n",
      "SupportVectorClassifier 0.8554952357145081\n",
      "======================================================================================================================================================\n"
     ]
    }
   ],
   "source": [
    "from sklearn.model_selection import StratifiedKFold, cross_val_score\n",
    "\n",
    "results = []; names = []\n",
    "for name, model in models:\n",
    "  splitter = StratifiedKFold(n_splits=5, shuffle=True, random_state=7)\n",
    "  cv_results = cross_val_score(model, X_train_tfidf1, y_train, cv=splitter, scoring='accuracy')\n",
    "  results.append(cv_results)\n",
    "  names.append(name)\n",
    "  \n",
    "  print(cv_results)\n",
    "  print(name, cv_results.mean())\n",
    "  print('=' * 150)"
   ]
  },
  {
   "cell_type": "code",
   "execution_count": 24,
   "metadata": {},
   "outputs": [
    {
     "data": {
      "text/plain": [
       "[array([0.84306096, 0.81841764, 0.84111543, 0.85084306, 0.85074627]),\n",
       " array([0.81387808, 0.7846952 , 0.80415045, 0.80869001, 0.83257625]),\n",
       " array([0.80998703, 0.80155642, 0.8080415 , 0.807393  , 0.82673589]),\n",
       " array([0.67963684, 0.67574578, 0.60894942, 0.68028534, 0.6807268 ]),\n",
       " array([0.84241245, 0.81906615, 0.8385214 , 0.84046693, 0.85074627]),\n",
       " array([0.8618677 , 0.83916991, 0.85278859, 0.85538262, 0.86826736])]"
      ]
     },
     "execution_count": 24,
     "metadata": {},
     "output_type": "execute_result"
    }
   ],
   "source": [
    "results"
   ]
  },
  {
   "cell_type": "code",
   "execution_count": 25,
   "metadata": {},
   "outputs": [
    {
     "data": {
      "image/png": "[encoded data removed]",
      "text/plain": [
       "<Figure size 1400x800 with 1 Axes>"
      ]
     },
     "metadata": {},
     "output_type": "display_data"
    }
   ],
   "source": [
    "fig = plt.figure(figsize=(14, 8))\n",
    "\n",
    "fig.suptitle('Model Comparison')\n",
    "ax = fig.add_subplot(111)\n",
    "ax.boxplot(results)\n",
    "ax.set_xticklabels(names);"
   ]
  },
  {
   "cell_type": "code",
   "execution_count": 26,
   "metadata": {},
   "outputs": [
    {
     "name": "stdout",
     "output_type": "stream",
     "text": [
      "RandomForestClassifier 0.8299610894941635\n",
      "GradientBoostingClassifier 0.7926070038910505\n",
      "AdaBoostClassifier 0.8027237354085603\n",
      "DecisionTreeClassifier 0.6782101167315175\n",
      "LogisticRegression 0.8385214007782101\n",
      "SupportVectorClassifier 0.8591439688715953\n"
     ]
    }
   ],
   "source": [
    "from sklearn.metrics import accuracy_score\n",
    "from sklearn.metrics import precision_score\n",
    "from sklearn.metrics import recall_score\n",
    "from sklearn.metrics import f1_score\n",
    "\n",
    "for name, model in models:\n",
    "  model.fit(X_train_tfidf1, y_train)\n",
    "  pred = model.predict(X_test_tfidf1)\n",
    "  \n",
    "  print(name, accuracy_score(y_test, pred))\n",
    "  # print(name, precision_score(y_test, pred))\n",
    "  # print(name, recall_score(y_test, pred))\n",
    "  # print(name, f1_score(y_test, pred))\n",
    "  # print('=' * 150)"
   ]
  }
 ],
 "metadata": {
  "kernelspec": {
   "display_name": "base",
   "language": "python",
   "name": "python3"
  },
  "language_info": {
   "codemirror_mode": {
    "name": "ipython",
    "version": 3
   },
   "file_extension": ".py",
   "mimetype": "text/x-python",
   "name": "python",
   "nbconvert_exporter": "python",
   "pygments_lexer": "ipython3",
   "version": "3.10.12"
  },
  "orig_nbformat": 4
 },
 "nbformat": 4,
 "nbformat_minor": 2
}
